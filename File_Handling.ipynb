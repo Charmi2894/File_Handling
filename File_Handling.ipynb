{
  "nbformat": 4,
  "nbformat_minor": 0,
  "metadata": {
    "colab": {
      "provenance": []
    },
    "kernelspec": {
      "name": "python3",
      "display_name": "Python 3"
    },
    "language_info": {
      "name": "python"
    }
  },
  "cells": [
    {
      "cell_type": "markdown",
      "source": [
        "# File Handling"
      ],
      "metadata": {
        "id": "4xVIzSMS_1Ze"
      }
    },
    {
      "cell_type": "markdown",
      "source": [
        "#Theory Questions"
      ],
      "metadata": {
        "id": "FEjsFqoL_87u"
      }
    },
    {
      "cell_type": "markdown",
      "source": [
        "1. What is the difference between interpreted and compiled languages?\n",
        "  - Interpreted languages are to execute code line by line where as compiled languages code are execute whole togather.\n",
        "  - Interpreted languages are python, javascript, php and compiled languages are c, c++, etc."
      ],
      "metadata": {
        "id": "zsD5L4d1AApx"
      }
    },
    {
      "cell_type": "markdown",
      "source": [
        "2. What is exception handling in Python?\n",
        "  - Exception handling in Python is a mechanism that allows you to gracefully handle errors that occur during the execution of a program.\n",
        "  - Instead of crashing the program, Python lets you catch and manage exceptions using specific keywords."
      ],
      "metadata": {
        "id": "JYhznsXQBxuv"
      }
    },
    {
      "cell_type": "markdown",
      "source": [
        "3. What is the purpose of the finally block in exception handling?\n",
        "  - The finally block in Python is used in conjunction with the try block statement.\n",
        "  - The finally block is used to write code that must be executed regardless of whether the try block generates an error."
      ],
      "metadata": {
        "id": "Xav6RUeuDQ1W"
      }
    },
    {
      "cell_type": "markdown",
      "source": [
        "4. What is logging in Python?\n",
        "  - Logging in Python is a way to track events that happen when your code runs.\n",
        "  - It helps you record messages which can be useful for debugging, monitoring, or auditing."
      ],
      "metadata": {
        "id": "yIkrBTpmMAl1"
      }
    },
    {
      "cell_type": "markdown",
      "source": [
        "5. What is the significance of the __del__ method in Python?\n",
        "  - The __del__ method in Python is a destructor method.\n",
        "  - It is called automatically when an object is about to be destroyed, i.e., when it is garbage collected."
      ],
      "metadata": {
        "id": "GxxM9yWYqCwL"
      }
    },
    {
      "cell_type": "markdown",
      "source": [
        "6. What is the difference between import and from ... import in Python?\n",
        "  -  import module : Imports the whole module. You need to use the module name to access its contents.\n",
        "  - from module import name : Imports specific items (functions, classes, variables) directly from the module. You do not need the module name to access them."
      ],
      "metadata": {
        "id": "0EXrl_37qQpg"
      }
    },
    {
      "cell_type": "markdown",
      "source": [
        "7. How can you handle multiple exceptions in Python?\n",
        "  - Handle Multiple Exceptions Separately : Use multiple except blocks to catch and handle each exception type individually.\n",
        "  - Handle Multiple Exceptions Together (Same Handling) : Use a tuple of exceptions in a single except block if the handling is the same."
      ],
      "metadata": {
        "id": "M9QJzhXVq03D"
      }
    },
    {
      "cell_type": "markdown",
      "source": [
        "8. What is the purpose of the with statement when handling files in Python?\n",
        "  - The with statement in Python is used for resource management, especially when working with files.\n",
        "  - Its main purpose is to automatically manage setup and cleanup actions—like opening and closing files—so you don’t have to manually close them."
      ],
      "metadata": {
        "id": "6MQSpZL_tirM"
      }
    },
    {
      "cell_type": "markdown",
      "source": [
        "9. What is the difference between multithreading and multiprocessing?\n",
        "  -  Multithreading : Runs multiple threads within a single process. Threads share the same memory space.\n",
        "  - Multiprocessing : Runs multiple processes, each with its own Python interpreter and memory space. Takes full advantage of multiple CPU cores."
      ],
      "metadata": {
        "id": "P6wxfD3fvPXo"
      }
    },
    {
      "cell_type": "markdown",
      "source": [
        "10. What are the advantages of using logging in a program?\n",
        "  - Logs help trace what the program was doing at a specific time.\n",
        "  - Logs can be stored in files, databases, or sent to monitoring systems\n",
        "  - The logging module is designed to work well in multithreaded or multiprocessing environments."
      ],
      "metadata": {
        "id": "vEqfFxitwycc"
      }
    },
    {
      "cell_type": "markdown",
      "source": [
        "11. What is memory management in Python?\n",
        "  - Memory management in Python refers to the process of efficiently allocating, using, and releasing memory during program execution.\n",
        "  - Python handles most of the memory management automatically, which helps developers focus more on logic and less on low-level memory handling."
      ],
      "metadata": {
        "id": "9Irm9Snjxr8m"
      }
    },
    {
      "cell_type": "markdown",
      "source": [
        "12. What are the basic steps involved in exception handling in Python?\n",
        "  - Try Block : Write the code that might raise an exception inside the try block.\n",
        "  - Except Block : If an exception occurs, it is caught by the except block. You can catch specific or general exceptions.\n",
        "  - Else Block (Optional) : Code in the else block runs only if no exception occurs in the try block.\n",
        "  - Finally Block (Optional) : The finally block always executes, whether an exception occurred or not.\n",
        "\n",
        "\n"
      ],
      "metadata": {
        "id": "VID_CoUzt1dz"
      }
    },
    {
      "cell_type": "markdown",
      "source": [
        "13. Why is memory management important in Python?\n",
        "  - Memory management is crucial in Python (and all programming languages) to ensure efficient use of system resources, application performance, and stability."
      ],
      "metadata": {
        "id": "r5IjO4F6udad"
      }
    },
    {
      "cell_type": "markdown",
      "source": [
        "14. What is the role of try and except in exception handling?\n",
        "  - Try Block : Write the code that might raise an exception inside the try block.\n",
        "Except Block : If an exception occurs, it is caught by the except block. You can catch specific or general exceptions."
      ],
      "metadata": {
        "id": "WFxhwsjKu7a5"
      }
    },
    {
      "cell_type": "markdown",
      "source": [
        "15. How does Python's garbage collection system work?\n",
        "  - Python's garbage collection system is responsible for automatically managing memory by reclaiming unused objects to prevent memory leaks and optimize performance."
      ],
      "metadata": {
        "id": "U11wjSyExgDU"
      }
    },
    {
      "cell_type": "markdown",
      "source": [
        "16. What is the purpose of the else block in exception handling?\n",
        "  - Else Block (Optional) : Code in the else block runs only if no exception occurs in the try block."
      ],
      "metadata": {
        "id": "ejlRQlBQzPmJ"
      }
    },
    {
      "cell_type": "markdown",
      "source": [
        "17. What are the common logging levels in Python?\n",
        "  - DEBUG : Detailed information, typically for diagnosing problems during development.\n",
        "  - INFO : General information about program execution.\n",
        "  - WARNING\t:\tAn indication of potential problems or unexpected behavior, but the program continues.\n",
        "  - ERROR\t:\tA serious problem that prevents a part of the program from functioning."
      ],
      "metadata": {
        "id": "8MmojFFQz9_A"
      }
    },
    {
      "cell_type": "markdown",
      "source": [
        "18. What is the difference between os.fork() and multiprocessing in Python?\n",
        "  - The difference between os.fork() and the multiprocessing module in Python lies in abstraction level, portability, and usability."
      ],
      "metadata": {
        "id": "14k4lt4d1gQ2"
      }
    },
    {
      "cell_type": "markdown",
      "source": [
        "19. What is the importance of closing a file in Python?\n",
        "  - If too many files remain open, it can lead to resource exhaustion and errors.\n",
        "  - file.close() ensures all buffered data is flushed (written) to disk.\n",
        "  - Closing it releases the lock, allowing other applications or users to access it."
      ],
      "metadata": {
        "id": "SWICWcIZ2Zpz"
      }
    },
    {
      "cell_type": "markdown",
      "source": [
        "20. What is the difference between file.read() and file.readline() in Python?\n",
        "  - file.read() : Reads the entire file (or specified number of characters) at once. Returns a string containing the full content.\n",
        "  - file.readline() : Reads only a single line from the file. Returns a string ending with a newline character (\\n) if it's not the last line."
      ],
      "metadata": {
        "id": "IH2iZmhQ3AAC"
      }
    },
    {
      "cell_type": "markdown",
      "source": [
        "21. What is the logging module in Python used for?\n",
        "  - It records the state and flow of your program/code/software.\n",
        "  - It is useful for understanding, monitoring and debugging of your code.\n",
        "  - It shows how program behaves over time."
      ],
      "metadata": {
        "id": "5g482tZG3UtC"
      }
    },
    {
      "cell_type": "markdown",
      "source": [
        "22. What is the os module in Python used for in file handling?\n",
        "  - WITH FILES\n",
        "    - os.remove(filename) :\tDelete a file\n",
        "    - os.rename(old, new)\t: Rename or move a file\n",
        "    - os.path.exists(path)\t: Check if a file or folder exists\n",
        "    - os.path.isfile(path)\t: Check if path is a file\n",
        "    - os.path.isdir(path)\t: Check if path is a directory\n",
        "  - WITH DIRECTORIES\n",
        "    - os.getcwd()\t: Get current working directory\n",
        "    - os.chdir(path)\t: Change current working directory\n",
        "    - os.listdir(path) : List files and folders in a directory\n",
        "    - os.mkdir(name)\t: Create a new directory\n",
        "    - os.makedirs(path)\t: Create nested directories\n",
        "    - os.rmdir(path) : Remove a directory (must be empty)\n",
        "    - os.removedirs(path) : Remove nested directories"
      ],
      "metadata": {
        "id": "SyKOsZuF3u_C"
      }
    },
    {
      "cell_type": "markdown",
      "source": [
        "23. What are the challenges associated with memory management in Python?\n",
        "  - Python uses reference counting and a garbage collector to manage memory.\n",
        "  - Some built-in containers like list, dict, and set can hold on to memory longer than needed.\n",
        "  - Garbage collection runs automatically, and you can't always predict when it will reclaim objects.\n",
        "  - Python objects are more memory-intensive compared to raw C structures due to dynamic typing and object metadata."
      ],
      "metadata": {
        "id": "5R9KxRZp45T1"
      }
    },
    {
      "cell_type": "markdown",
      "source": [
        "24. How do you raise an exception manually in Python?\n",
        "  - Raise built-in error : raise TypeError(\"Wrong type\")\n",
        "  - Raise custom error : raise MyError(\"Custom issue\")\n",
        "  - Re-raise exception : raise (inside an except block)"
      ],
      "metadata": {
        "id": "1fNh9h3W5t6k"
      }
    },
    {
      "cell_type": "markdown",
      "source": [
        "25. Why is it important to use multithreading in certain applications?\n",
        "  - Multithreading is important in certain applications because it allows programs to perform multiple tasks concurrently, which can improve performance, responsiveness, and efficiency, especially in specific types of workloads."
      ],
      "metadata": {
        "id": "50yDyxax6Ny2"
      }
    },
    {
      "cell_type": "markdown",
      "source": [
        "#Practical Questions"
      ],
      "metadata": {
        "id": "P58RcwfB6eO0"
      }
    },
    {
      "cell_type": "code",
      "source": [
        "#1. How can you open a file for writing in Python and write a string to it?\n",
        "with open(\"file.txt\", \"w\") as f:\n",
        "    f.write(\"Hello, world!\")\n"
      ],
      "metadata": {
        "id": "iV-fZ2wh6hNQ"
      },
      "execution_count": 7,
      "outputs": []
    },
    {
      "cell_type": "code",
      "source": [
        "#2.Write a Python program to read the contents of a file and print each line.\n",
        "from google.colab import files\n",
        "uploaded = files.upload()\n",
        "filename = next(iter(uploaded))\n",
        "with open(filename, \"r\") as f:\n",
        "    for line in f:\n",
        "        print(line.strip())"
      ],
      "metadata": {
        "colab": {
          "base_uri": "https://localhost:8080/",
          "height": 90
        },
        "id": "yEvPl-8e7AOC",
        "outputId": "87e21dc8-55ff-418f-b824-a132d59e44db"
      },
      "execution_count": 14,
      "outputs": [
        {
          "output_type": "display_data",
          "data": {
            "text/plain": [
              "<IPython.core.display.HTML object>"
            ],
            "text/html": [
              "\n",
              "     <input type=\"file\" id=\"files-b66d793b-8ff1-42ff-877a-8a3c99bd5705\" name=\"files[]\" multiple disabled\n",
              "        style=\"border:none\" />\n",
              "     <output id=\"result-b66d793b-8ff1-42ff-877a-8a3c99bd5705\">\n",
              "      Upload widget is only available when the cell has been executed in the\n",
              "      current browser session. Please rerun this cell to enable.\n",
              "      </output>\n",
              "      <script>// Copyright 2017 Google LLC\n",
              "//\n",
              "// Licensed under the Apache License, Version 2.0 (the \"License\");\n",
              "// you may not use this file except in compliance with the License.\n",
              "// You may obtain a copy of the License at\n",
              "//\n",
              "//      http://www.apache.org/licenses/LICENSE-2.0\n",
              "//\n",
              "// Unless required by applicable law or agreed to in writing, software\n",
              "// distributed under the License is distributed on an \"AS IS\" BASIS,\n",
              "// WITHOUT WARRANTIES OR CONDITIONS OF ANY KIND, either express or implied.\n",
              "// See the License for the specific language governing permissions and\n",
              "// limitations under the License.\n",
              "\n",
              "/**\n",
              " * @fileoverview Helpers for google.colab Python module.\n",
              " */\n",
              "(function(scope) {\n",
              "function span(text, styleAttributes = {}) {\n",
              "  const element = document.createElement('span');\n",
              "  element.textContent = text;\n",
              "  for (const key of Object.keys(styleAttributes)) {\n",
              "    element.style[key] = styleAttributes[key];\n",
              "  }\n",
              "  return element;\n",
              "}\n",
              "\n",
              "// Max number of bytes which will be uploaded at a time.\n",
              "const MAX_PAYLOAD_SIZE = 100 * 1024;\n",
              "\n",
              "function _uploadFiles(inputId, outputId) {\n",
              "  const steps = uploadFilesStep(inputId, outputId);\n",
              "  const outputElement = document.getElementById(outputId);\n",
              "  // Cache steps on the outputElement to make it available for the next call\n",
              "  // to uploadFilesContinue from Python.\n",
              "  outputElement.steps = steps;\n",
              "\n",
              "  return _uploadFilesContinue(outputId);\n",
              "}\n",
              "\n",
              "// This is roughly an async generator (not supported in the browser yet),\n",
              "// where there are multiple asynchronous steps and the Python side is going\n",
              "// to poll for completion of each step.\n",
              "// This uses a Promise to block the python side on completion of each step,\n",
              "// then passes the result of the previous step as the input to the next step.\n",
              "function _uploadFilesContinue(outputId) {\n",
              "  const outputElement = document.getElementById(outputId);\n",
              "  const steps = outputElement.steps;\n",
              "\n",
              "  const next = steps.next(outputElement.lastPromiseValue);\n",
              "  return Promise.resolve(next.value.promise).then((value) => {\n",
              "    // Cache the last promise value to make it available to the next\n",
              "    // step of the generator.\n",
              "    outputElement.lastPromiseValue = value;\n",
              "    return next.value.response;\n",
              "  });\n",
              "}\n",
              "\n",
              "/**\n",
              " * Generator function which is called between each async step of the upload\n",
              " * process.\n",
              " * @param {string} inputId Element ID of the input file picker element.\n",
              " * @param {string} outputId Element ID of the output display.\n",
              " * @return {!Iterable<!Object>} Iterable of next steps.\n",
              " */\n",
              "function* uploadFilesStep(inputId, outputId) {\n",
              "  const inputElement = document.getElementById(inputId);\n",
              "  inputElement.disabled = false;\n",
              "\n",
              "  const outputElement = document.getElementById(outputId);\n",
              "  outputElement.innerHTML = '';\n",
              "\n",
              "  const pickedPromise = new Promise((resolve) => {\n",
              "    inputElement.addEventListener('change', (e) => {\n",
              "      resolve(e.target.files);\n",
              "    });\n",
              "  });\n",
              "\n",
              "  const cancel = document.createElement('button');\n",
              "  inputElement.parentElement.appendChild(cancel);\n",
              "  cancel.textContent = 'Cancel upload';\n",
              "  const cancelPromise = new Promise((resolve) => {\n",
              "    cancel.onclick = () => {\n",
              "      resolve(null);\n",
              "    };\n",
              "  });\n",
              "\n",
              "  // Wait for the user to pick the files.\n",
              "  const files = yield {\n",
              "    promise: Promise.race([pickedPromise, cancelPromise]),\n",
              "    response: {\n",
              "      action: 'starting',\n",
              "    }\n",
              "  };\n",
              "\n",
              "  cancel.remove();\n",
              "\n",
              "  // Disable the input element since further picks are not allowed.\n",
              "  inputElement.disabled = true;\n",
              "\n",
              "  if (!files) {\n",
              "    return {\n",
              "      response: {\n",
              "        action: 'complete',\n",
              "      }\n",
              "    };\n",
              "  }\n",
              "\n",
              "  for (const file of files) {\n",
              "    const li = document.createElement('li');\n",
              "    li.append(span(file.name, {fontWeight: 'bold'}));\n",
              "    li.append(span(\n",
              "        `(${file.type || 'n/a'}) - ${file.size} bytes, ` +\n",
              "        `last modified: ${\n",
              "            file.lastModifiedDate ? file.lastModifiedDate.toLocaleDateString() :\n",
              "                                    'n/a'} - `));\n",
              "    const percent = span('0% done');\n",
              "    li.appendChild(percent);\n",
              "\n",
              "    outputElement.appendChild(li);\n",
              "\n",
              "    const fileDataPromise = new Promise((resolve) => {\n",
              "      const reader = new FileReader();\n",
              "      reader.onload = (e) => {\n",
              "        resolve(e.target.result);\n",
              "      };\n",
              "      reader.readAsArrayBuffer(file);\n",
              "    });\n",
              "    // Wait for the data to be ready.\n",
              "    let fileData = yield {\n",
              "      promise: fileDataPromise,\n",
              "      response: {\n",
              "        action: 'continue',\n",
              "      }\n",
              "    };\n",
              "\n",
              "    // Use a chunked sending to avoid message size limits. See b/62115660.\n",
              "    let position = 0;\n",
              "    do {\n",
              "      const length = Math.min(fileData.byteLength - position, MAX_PAYLOAD_SIZE);\n",
              "      const chunk = new Uint8Array(fileData, position, length);\n",
              "      position += length;\n",
              "\n",
              "      const base64 = btoa(String.fromCharCode.apply(null, chunk));\n",
              "      yield {\n",
              "        response: {\n",
              "          action: 'append',\n",
              "          file: file.name,\n",
              "          data: base64,\n",
              "        },\n",
              "      };\n",
              "\n",
              "      let percentDone = fileData.byteLength === 0 ?\n",
              "          100 :\n",
              "          Math.round((position / fileData.byteLength) * 100);\n",
              "      percent.textContent = `${percentDone}% done`;\n",
              "\n",
              "    } while (position < fileData.byteLength);\n",
              "  }\n",
              "\n",
              "  // All done.\n",
              "  yield {\n",
              "    response: {\n",
              "      action: 'complete',\n",
              "    }\n",
              "  };\n",
              "}\n",
              "\n",
              "scope.google = scope.google || {};\n",
              "scope.google.colab = scope.google.colab || {};\n",
              "scope.google.colab._files = {\n",
              "  _uploadFiles,\n",
              "  _uploadFilesContinue,\n",
              "};\n",
              "})(self);\n",
              "</script> "
            ]
          },
          "metadata": {}
        },
        {
          "output_type": "stream",
          "name": "stdout",
          "text": [
            "Saving file.txt to file (1).txt\n",
            "Hello, world!\n"
          ]
        }
      ]
    },
    {
      "cell_type": "code",
      "source": [
        "#3.How would you handle a case where the file doesn't exist while trying to open it for reading?\n",
        "try:\n",
        "    with open(\"nofile.txt\", \"r\") as f:\n",
        "        data = f.read()\n",
        "except FileNotFoundError:\n",
        "    print(\"File does not exist.\")\n"
      ],
      "metadata": {
        "colab": {
          "base_uri": "https://localhost:8080/"
        },
        "id": "hYnJOyfHAlS8",
        "outputId": "fb9a6665-89eb-4f90-ca76-20aaa611665a"
      },
      "execution_count": 15,
      "outputs": [
        {
          "output_type": "stream",
          "name": "stdout",
          "text": [
            "File does not exist.\n"
          ]
        }
      ]
    },
    {
      "cell_type": "code",
      "source": [
        "#4.Write a Python script that reads from one file and writes its content to another file.\n",
        "with open(\"source.txt\", \"r\") as src, open(\"dest.txt\", \"w\") as dst:\n",
        "    dst.write(src.read())"
      ],
      "metadata": {
        "id": "rsmkgztFHDS4"
      },
      "execution_count": 18,
      "outputs": []
    },
    {
      "cell_type": "code",
      "source": [
        "#5.How would you catch and handle division by zero error in Python?\n",
        "try:\n",
        "    result = 10 / 0\n",
        "except ZeroDivisionError:\n",
        "    print(\"Cannot divide by zero.\")"
      ],
      "metadata": {
        "colab": {
          "base_uri": "https://localhost:8080/"
        },
        "id": "KwDeVN1AJzyj",
        "outputId": "e97c8585-d8d4-4029-94cd-56dfc5540226"
      },
      "execution_count": 19,
      "outputs": [
        {
          "output_type": "stream",
          "name": "stdout",
          "text": [
            "Cannot divide by zero.\n"
          ]
        }
      ]
    },
    {
      "cell_type": "code",
      "source": [
        "#6. Write a Python program that logs an error message to a log file when a division by zero exception occurs.\n",
        "import logging\n",
        "logging.basicConfig(filename=\"log.txt\", level=logging.ERROR)\n",
        "try:\n",
        "    result = 10 / 0\n",
        "except ZeroDivisionError as e:\n",
        "    logging.error(f\"Error occurred: {e}\")\n"
      ],
      "metadata": {
        "colab": {
          "base_uri": "https://localhost:8080/"
        },
        "id": "HfRZy2JMKDf9",
        "outputId": "31f927eb-6580-4ef3-86fc-e14326dc1f4c"
      },
      "execution_count": 20,
      "outputs": [
        {
          "output_type": "stream",
          "name": "stderr",
          "text": [
            "ERROR:root:Error occurred: division by zero\n"
          ]
        }
      ]
    },
    {
      "cell_type": "code",
      "source": [
        "#7.How do you log information at different levels (INFO, ERROR, WARNING) in Python using the logging module?\n",
        "import logging\n",
        "\n",
        "logging.basicConfig(level=logging.DEBUG)\n",
        "logging.info(\"This is an info message.\")\n",
        "logging.warning(\"This is a warning.\")\n",
        "logging.error(\"This is an error.\")"
      ],
      "metadata": {
        "colab": {
          "base_uri": "https://localhost:8080/"
        },
        "id": "7Pvv_sC8KVAh",
        "outputId": "b9e92a87-8766-4118-9f8f-b2fedc4b0814"
      },
      "execution_count": 21,
      "outputs": [
        {
          "output_type": "stream",
          "name": "stderr",
          "text": [
            "WARNING:root:This is a warning.\n",
            "ERROR:root:This is an error.\n"
          ]
        }
      ]
    },
    {
      "cell_type": "code",
      "source": [
        "#8.Write a program to handle a file opening error using exception handling.\n",
        "try:\n",
        "    with open(\"nofile.txt\", \"r\") as f:\n",
        "        data = f.read()\n",
        "except OSError as e:\n",
        "    print(f\"Error: {e}\")\n"
      ],
      "metadata": {
        "colab": {
          "base_uri": "https://localhost:8080/"
        },
        "id": "d7a_SiCPKd_d",
        "outputId": "e32fd65b-d472-4a48-85e5-0ffa4cd448ae"
      },
      "execution_count": 22,
      "outputs": [
        {
          "output_type": "stream",
          "name": "stdout",
          "text": [
            "Error: [Errno 2] No such file or directory: 'nofile.txt'\n"
          ]
        }
      ]
    },
    {
      "cell_type": "code",
      "source": [
        "#9. How can you read a file line by line and store its content in a list in Python?\n",
        "with open(\"file.txt\", \"r\") as f:\n",
        "    lines = [line.strip() for line in f]\n",
        "print(lines)"
      ],
      "metadata": {
        "colab": {
          "base_uri": "https://localhost:8080/"
        },
        "id": "70J1TW6TKmgQ",
        "outputId": "6019feba-e3f6-4b56-bfe3-1aeb9d2e1c1d"
      },
      "execution_count": 23,
      "outputs": [
        {
          "output_type": "stream",
          "name": "stdout",
          "text": [
            "['Hello, world!']\n"
          ]
        }
      ]
    },
    {
      "cell_type": "code",
      "source": [
        "#10.How can you append data to an existing file in Python?\n",
        "with open(\"file.txt\", \"a\") as f:\n",
        "    f.write(\"\\nAppended line.\")"
      ],
      "metadata": {
        "id": "q7xIU_doK4iW"
      },
      "execution_count": 24,
      "outputs": []
    },
    {
      "cell_type": "code",
      "source": [
        "#11.Write a Python program that uses a try-except block to handle an error when attempting to access a dictionary key that doesn't exist.\n",
        "d = {\"name\": \"Charmi\"}\n",
        "try:\n",
        "    print(d[\"age\"])\n",
        "except KeyError:\n",
        "    print(\"Key not found.\")\n"
      ],
      "metadata": {
        "colab": {
          "base_uri": "https://localhost:8080/"
        },
        "id": "qNqgQKsILJ2Y",
        "outputId": "de2bcd01-e3eb-4906-a565-2fa222c5f5cb"
      },
      "execution_count": 25,
      "outputs": [
        {
          "output_type": "stream",
          "name": "stdout",
          "text": [
            "Key not found.\n"
          ]
        }
      ]
    },
    {
      "cell_type": "code",
      "source": [
        "#12. Write a program that demonstrates using multiple except blocks to handle different types of exceptions.\n",
        "try:\n",
        "    a = int(\"abc\")\n",
        "except ValueError:\n",
        "    print(\"Value error\")\n",
        "except ZeroDivisionError:\n",
        "    print(\"Zero division\")\n"
      ],
      "metadata": {
        "colab": {
          "base_uri": "https://localhost:8080/"
        },
        "id": "VDzyMfT-LXVj",
        "outputId": "8018677b-978e-424a-dedf-187833df9f72"
      },
      "execution_count": 26,
      "outputs": [
        {
          "output_type": "stream",
          "name": "stdout",
          "text": [
            "Value error\n"
          ]
        }
      ]
    },
    {
      "cell_type": "code",
      "source": [
        "#13.How would you check if a file exists before attempting to read it in Python?\n",
        "import os\n",
        "\n",
        "if os.path.exists(\"file.txt\"):\n",
        "    with open(\"file.txt\") as f:\n",
        "        print(f.read())\n",
        "else:\n",
        "    print(\"File does not exist.\")\n"
      ],
      "metadata": {
        "colab": {
          "base_uri": "https://localhost:8080/"
        },
        "id": "v8V90bYILeiR",
        "outputId": "9dc8d7b5-a657-40f4-afe3-f7a650898773"
      },
      "execution_count": 27,
      "outputs": [
        {
          "output_type": "stream",
          "name": "stdout",
          "text": [
            "Hello, world!\n",
            "Appended line.\n"
          ]
        }
      ]
    },
    {
      "cell_type": "code",
      "source": [
        "#14.Write a program that uses the logging module to log both informational and error messages.\n",
        "import logging\n",
        "\n",
        "logging.basicConfig(filename=\"log.txt\", level=logging.DEBUG)\n",
        "logging.info(\"Informational message.\")\n",
        "logging.error(\"Error message.\")"
      ],
      "metadata": {
        "colab": {
          "base_uri": "https://localhost:8080/"
        },
        "id": "JoRJW14-Lz30",
        "outputId": "61a3e5b7-0f52-4712-dfc2-0464e0d6fd67"
      },
      "execution_count": 28,
      "outputs": [
        {
          "output_type": "stream",
          "name": "stderr",
          "text": [
            "ERROR:root:Error message.\n"
          ]
        }
      ]
    },
    {
      "cell_type": "code",
      "source": [
        "#15.Write a Python program that prints the content of a file and handles the case when the file is empty.\n",
        "with open(\"file.txt\", \"r\") as f:\n",
        "    content = f.read()\n",
        "    if not content:\n",
        "        print(\"File is empty.\")\n",
        "    else:\n",
        "        print(content)"
      ],
      "metadata": {
        "colab": {
          "base_uri": "https://localhost:8080/"
        },
        "id": "5f87ZoY7L_w-",
        "outputId": "f5f034ea-f22d-45a5-d2a7-940fb5795ee4"
      },
      "execution_count": 29,
      "outputs": [
        {
          "output_type": "stream",
          "name": "stdout",
          "text": [
            "Hello, world!\n",
            "Appended line.\n"
          ]
        }
      ]
    },
    {
      "cell_type": "code",
      "source": [
        "#16. Demonstrate how to use memory profiling to check the memory usage of a small program.\n",
        "import tracemalloc\n",
        "\n",
        "tracemalloc.start()\n",
        "\n",
        "x = [i for i in range(1000000)]\n",
        "print(\"Memory used:\", tracemalloc.get_traced_memory())\n",
        "\n",
        "tracemalloc.stop()\n"
      ],
      "metadata": {
        "colab": {
          "base_uri": "https://localhost:8080/"
        },
        "id": "3DSQfVBCMUHy",
        "outputId": "ea3be282-b962-41c6-f35c-511360adead8"
      },
      "execution_count": 30,
      "outputs": [
        {
          "output_type": "stream",
          "name": "stdout",
          "text": [
            "Memory used: (40454616, 40465380)\n"
          ]
        }
      ]
    },
    {
      "cell_type": "code",
      "source": [
        "#17. Write a Python program to create and write a list of numbers to a file, one number per line.\n",
        "with open(\"numbers.txt\", \"w\") as f:\n",
        "    for i in range(1, 11):\n",
        "        f.write(f\"{i}\\n\")\n"
      ],
      "metadata": {
        "id": "1YjnRS8hMhow"
      },
      "execution_count": 31,
      "outputs": []
    },
    {
      "cell_type": "code",
      "source": [
        "#18. How would you implement a basic logging setup that logs to a file with rotation after 1MB?\n",
        "import logging.handlers\n",
        "\n",
        "logger = logging.getLogger()\n",
        "logger.setLevel(logging.INFO)\n",
        "\n",
        "handler = logging.handlers.RotatingFileHandler(\"log.txt\", maxBytes=200, backupCount=2)\n",
        "logger.addHandler(handler)\n",
        "\n",
        "logger.info(\"This is a log message.\")\n"
      ],
      "metadata": {
        "colab": {
          "base_uri": "https://localhost:8080/"
        },
        "id": "MN6EdFt4MwZ1",
        "outputId": "66d6e9a8-02a2-429f-9aa2-6183d9a13a25"
      },
      "execution_count": 32,
      "outputs": [
        {
          "output_type": "stream",
          "name": "stderr",
          "text": [
            "INFO:root:This is a log message.\n"
          ]
        }
      ]
    },
    {
      "cell_type": "code",
      "source": [
        "#19. Write a program that handles both IndexError and KeyError using a try-except block.\n",
        "try:\n",
        "    lst = [1, 2, 3]\n",
        "    print(lst[10])\n",
        "    d = {}\n",
        "    print(d[\"key\"])\n",
        "except (IndexError, KeyError) as e:\n",
        "    print(\"Caught:\", e)\n"
      ],
      "metadata": {
        "colab": {
          "base_uri": "https://localhost:8080/"
        },
        "id": "7CszST_RNC-m",
        "outputId": "2d4d7e0c-5947-4e25-8df4-ff5e31525984"
      },
      "execution_count": 33,
      "outputs": [
        {
          "output_type": "stream",
          "name": "stdout",
          "text": [
            "Caught: list index out of range\n"
          ]
        }
      ]
    },
    {
      "cell_type": "code",
      "source": [
        "#20.How would you open a file and read its contents using a context manager in Python?\n",
        "with open(\"file.txt\", \"r\") as f:\n",
        "    print(f.read())\n"
      ],
      "metadata": {
        "colab": {
          "base_uri": "https://localhost:8080/"
        },
        "id": "sAyXlMgFNQ_5",
        "outputId": "bfc2148d-9974-4191-8aee-532b7974de54"
      },
      "execution_count": 34,
      "outputs": [
        {
          "output_type": "stream",
          "name": "stdout",
          "text": [
            "Hello, world!\n",
            "Appended line.\n"
          ]
        }
      ]
    },
    {
      "cell_type": "code",
      "source": [
        "#21.Write a Python program that reads a file and prints the number of occurrences of a specific word.\n",
        "word = \"apple\"\n",
        "count = 0\n",
        "with open(\"file.txt\", \"r\") as f:\n",
        "    for line in f:\n",
        "        count += line.lower().count(word)\n",
        "print(f\"'{word}' occurred {count} times.\")\n"
      ],
      "metadata": {
        "colab": {
          "base_uri": "https://localhost:8080/"
        },
        "id": "kUAWS8lWNYkV",
        "outputId": "f2136efb-1211-4396-9bb1-8e4bec674993"
      },
      "execution_count": 35,
      "outputs": [
        {
          "output_type": "stream",
          "name": "stdout",
          "text": [
            "'apple' occurred 0 times.\n"
          ]
        }
      ]
    },
    {
      "cell_type": "code",
      "source": [
        "#22.How can you check if a file is empty before attempting to read its contents?\n",
        "import os\n",
        "if os.path.exists(\"file.txt\") and os.path.getsize(\"file.txt\") > 0:\n",
        "    print(\"File is not empty.\")\n",
        "else:\n",
        "    print(\"File is empty.\")\n"
      ],
      "metadata": {
        "colab": {
          "base_uri": "https://localhost:8080/"
        },
        "id": "SqdyHVrDNiTH",
        "outputId": "baaae69a-123b-4324-d3f4-0d11c9d16514"
      },
      "execution_count": 36,
      "outputs": [
        {
          "output_type": "stream",
          "name": "stdout",
          "text": [
            "File is not empty.\n"
          ]
        }
      ]
    },
    {
      "cell_type": "code",
      "source": [
        "#23.Write a Python program that writes to a log file when an error occurs during file handling.\n",
        "import logging\n",
        "\n",
        "logging.basicConfig(filename=\"error_log.txt\", level=logging.ERROR)\n",
        "\n",
        "try:\n",
        "    with open(\"nonexistent.txt\") as f:\n",
        "        print(f.read())\n",
        "except Exception as e:\n",
        "    logging.error(f\"Error: {e}\")"
      ],
      "metadata": {
        "colab": {
          "base_uri": "https://localhost:8080/"
        },
        "id": "zX81KOZbNwUE",
        "outputId": "9696e489-148b-48a9-e94a-8d606a6c9d77"
      },
      "execution_count": 37,
      "outputs": [
        {
          "output_type": "stream",
          "name": "stderr",
          "text": [
            "ERROR:root:Error: [Errno 2] No such file or directory: 'nonexistent.txt'\n"
          ]
        }
      ]
    }
  ]
}